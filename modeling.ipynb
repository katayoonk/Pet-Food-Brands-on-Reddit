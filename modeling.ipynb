{
 "cells": [
  {
   "cell_type": "markdown",
   "id": "ef9040eb-9961-4145-8084-2d1ca34fae8a",
   "metadata": {},
   "source": [
    "#  Project 3: Web APIs & NLP"
   ]
  },
  {
   "cell_type": "markdown",
   "id": "1eb69524-574b-4cce-96b3-8fde3fe71026",
   "metadata": {},
   "source": [
    "## Modeling"
   ]
  },
  {
   "cell_type": "markdown",
   "id": "e95ffecc-0b04-47dd-a3fc-45203fafb42c",
   "metadata": {},
   "source": [
    "### Baseline"
   ]
  },
  {
   "cell_type": "code",
   "execution_count": 1,
   "id": "d32920c1-fe66-43f1-8e9d-2d6feb713b41",
   "metadata": {},
   "outputs": [],
   "source": [
    "import requests\n",
    "import numpy as np\n",
    "import pandas as pd\n",
    "import matplotlib.pyplot as plt\n",
    "import time \n",
    "import warnings\n",
    "import nltk\n",
    "\n",
    "from nltk.tokenize import sent_tokenize, word_tokenize, RegexpTokenizer\n",
    "from nltk.stem import PorterStemmer, WordNetLemmatizer\n",
    "from nltk.corpus import stopwords, wordnet\n",
    "from sklearn.model_selection import train_test_split, GridSearchCV\n",
    "from sklearn.pipeline import Pipeline\n",
    "from sklearn.naive_bayes import MultinomialNB\n",
    "from sklearn.metrics import confusion_matrix, plot_confusion_matrix\n",
    "from sklearn.ensemble import RandomForestClassifier\n",
    "from sklearn.linear_model import LogisticRegression\n",
    "from sklearn.model_selection import cross_val_score\n",
    "from sklearn.ensemble import VotingClassifier\n",
    "from sklearn.feature_extraction.text import CountVectorizer, TfidfVectorizer\n",
    "from sklearn.svm import LinearSVC, SVC"
   ]
  },
  {
   "cell_type": "code",
   "execution_count": 2,
   "id": "9b5bc1d2-45f0-4b9c-be8c-1f2c3b3f85f2",
   "metadata": {},
   "outputs": [],
   "source": [
    "df_vectorized = pd.read_parquet('./data/cleaned_vectorized_catdog.parquet')\n",
    "df = pd.read_csv('./data/cat_dog.csv')"
   ]
  },
  {
   "cell_type": "code",
   "execution_count": 37,
   "id": "0cd3723a-bbb6-4a11-991e-dcf222c34aa7",
   "metadata": {},
   "outputs": [],
   "source": [
    "warnings.filterwarnings('ignore')"
   ]
  },
  {
   "cell_type": "code",
   "execution_count": 10,
   "id": "833a31d5-3119-45a3-ab56-c6037acfb2e6",
   "metadata": {},
   "outputs": [
    {
     "data": {
      "text/plain": [
       "cats    0.52145\n",
       "dogs    0.47855\n",
       "Name: subreddit, dtype: float64"
      ]
     },
     "execution_count": 10,
     "metadata": {},
     "output_type": "execute_result"
    }
   ],
   "source": [
    "# Baseline- Check what we need to check in a classification problem.\n",
    "df['subreddit'].value_counts(normalize = True)"
   ]
  },
  {
   "cell_type": "markdown",
   "id": "cde2c12c-3d19-4737-bcd5-d54335717966",
   "metadata": {},
   "source": [
    "### Models"
   ]
  },
  {
   "cell_type": "code",
   "execution_count": 11,
   "id": "afa64984-ab35-471a-b903-459d2eb18d45",
   "metadata": {},
   "outputs": [],
   "source": [
    "# A function that fit a model on X_train and y_train of the given X and y and print accuracies\n",
    "\n",
    "def fit_model(X, y, pipe, pipe_params):\n",
    "    # Split the data into the training and testing sets.\n",
    "    X_train, X_test, y_train, y_test = train_test_split(X, y, stratify=y, random_state=42)\n",
    "    \n",
    "    pipe.fit(X_train, y_train)\n",
    "\n",
    "    gs = GridSearchCV(pipe, # what object are we optimizing?\n",
    "                      param_grid = pipe_params, # what parameters values are we searching?\n",
    "                      cv = 5) # 5-fold cross-validation.\n",
    "\n",
    "    gs.fit(X_train, y_train)\n",
    "\n",
    "    print(f'train score: {gs.score(X_train, y_train)}')\n",
    "    print(f'test score: {gs.score(X_test, y_test)}')\n",
    "\n",
    "    print(gs.best_params_)\n",
    "    \n",
    "    return gs\n",
    "\n",
    "\n",
    "# A function that returns confusion matrix\n",
    "\n",
    "def get_confusion_matrix(gs, X, y):\n",
    "    \n",
    "    X_train, X_test, y_train, y_test = train_test_split(X, y, stratify=y, random_state=42)\n",
    "\n",
    "    preds = gs.predict(X_test)\n",
    "    tn, fp, fn, tp = confusion_matrix(y_test, preds).ravel()\n",
    "\n",
    "    #View Confusion Matrix\n",
    "    plot_confusion_matrix(gs, X_test, y_test, cmap='bone');"
   ]
  },
  {
   "cell_type": "markdown",
   "id": "3ddb44ad-96e0-4010-8b89-1c2c0da35ec1",
   "metadata": {},
   "source": [
    "### Modeling Using the `CountVectorizer` and `MultinomialNB`"
   ]
  },
  {
   "cell_type": "code",
   "execution_count": 12,
   "id": "b025ee2f-8f5b-4db9-9d0a-7ecf363374c7",
   "metadata": {},
   "outputs": [
    {
     "name": "stdout",
     "output_type": "stream",
     "text": [
      "train score: 0.8965161822304679\n",
      "test score: 0.8868624420401855\n",
      "{'cvec__max_df': 0.9, 'cvec__max_features': 3000, 'cvec__min_df': 2, 'cvec__ngram_range': (1, 2)}\n",
      "Wall time: 2min 13s\n"
     ]
    }
   ],
   "source": [
    "%%time\n",
    "\n",
    "# Model #1\n",
    "\n",
    "pipe = Pipeline([\n",
    "        ('cvec', CountVectorizer(stop_words = 'english')),\n",
    "        ('nb', MultinomialNB())\n",
    "    ])\n",
    "\n",
    "pipe_params = {\n",
    "    'cvec__max_features': [500, 1_000, 2_000, 3_000, 4_000],\n",
    "    'cvec__min_df': [2, 3],\n",
    "    'cvec__max_df': [.9, .95],\n",
    "    'cvec__ngram_range': [(1, 1), (1, 2)]\n",
    "}\n",
    "\n",
    "# Call the fit model function\n",
    "model_1 = fit_model(df['text'],\n",
    "                    df['subreddit'],\n",
    "                    pipe,\n",
    "                    pipe_params)"
   ]
  },
  {
   "cell_type": "code",
   "execution_count": 13,
   "id": "e1e2316d-39e7-4c85-889a-e5766f501935",
   "metadata": {},
   "outputs": [
    {
     "data": {
      "image/png": "[encoded data removed]",
      "text/plain": [
       "<Figure size 432x288 with 2 Axes>"
      ]
     },
     "metadata": {
      "needs_background": "light"
     },
     "output_type": "display_data"
    }
   ],
   "source": [
    "# Get confusion matrxi for model#1\n",
    "get_confusion_matrix(model_1,\n",
    "                     df['text'],\n",
    "                     df['subreddit'])"
   ]
  },
  {
   "cell_type": "markdown",
   "id": "07acc000-c1e9-4f60-8c8a-9ef6ced9d163",
   "metadata": {},
   "source": [
    "### Modeling Using the `TfidfVectorizer` and `MultinomialNB`"
   ]
  },
  {
   "cell_type": "code",
   "execution_count": 14,
   "id": "d4a1418f-e4da-45c9-aae5-00cf13a2a3e9",
   "metadata": {},
   "outputs": [
    {
     "name": "stdout",
     "output_type": "stream",
     "text": [
      "train score: 0.909297052154195\n",
      "test score: 0.8757341576506955\n",
      "{'tvec__max_features': 5000, 'tvec__ngram_range': (1, 2), 'tvec__stop_words': 'english'}\n",
      "Wall time: 47.7 s\n"
     ]
    }
   ],
   "source": [
    "%%time\n",
    "\n",
    "# Model #2\n",
    "\n",
    "pipe = Pipeline([\n",
    "    ('tvec', TfidfVectorizer()),\n",
    "    ('nb', MultinomialNB())\n",
    "])\n",
    "\n",
    "pipe_params = {\n",
    "    'tvec__max_features': [3_000, 4_000, 5_000],\n",
    "    'tvec__stop_words': [None, 'english'],\n",
    "    'tvec__ngram_range': [(1, 1), (1, 2)]\n",
    "}\n",
    "\n",
    "model_2 = fit_model(df['text'],\n",
    "                    df['subreddit'],\n",
    "                    pipe,\n",
    "                    pipe_params)"
   ]
  },
  {
   "cell_type": "code",
   "execution_count": 15,
   "id": "5d30515a-f413-4ec4-9524-5d975fd72ba6",
   "metadata": {},
   "outputs": [
    {
     "data": {
      "image/png": "[encoded data removed]",
      "text/plain": [
       "<Figure size 432x288 with 2 Axes>"
      ]
     },
     "metadata": {
      "needs_background": "light"
     },
     "output_type": "display_data"
    }
   ],
   "source": [
    "# Get confusion matrxi for model#2\n",
    "get_confusion_matrix(model_2,\n",
    "                     df['text'],\n",
    "                     df['subreddit'])"
   ]
  },
  {
   "cell_type": "markdown",
   "id": "12fe7f36-bb0c-44d0-b804-8cc244041342",
   "metadata": {},
   "source": [
    "### Modeling Using the `TfidfVectorizer` and `RandomForestClassifier`"
   ]
  },
  {
   "cell_type": "code",
   "execution_count": 16,
   "id": "d82f5259-0705-488b-b134-289a3ac25d21",
   "metadata": {},
   "outputs": [
    {
     "name": "stdout",
     "output_type": "stream",
     "text": [
      "train score: 0.8464234178519893\n",
      "test score: 0.835548686244204\n",
      "{'rf__max_depth': 7, 'rf__n_estimators': 300, 'tvec__max_features': 2000, 'tvec__ngram_range': (1, 2)}\n",
      "Wall time: 17min 13s\n"
     ]
    }
   ],
   "source": [
    "%%time\n",
    "\n",
    "# Model #3\n",
    "\n",
    "pipe = Pipeline([\n",
    "    ('tvec', TfidfVectorizer(stop_words='english')),\n",
    "    ('rf', RandomForestClassifier())\n",
    "])\n",
    "\n",
    "pipe_params = {\n",
    "    'tvec__max_features': [2_000, 3_000, 4_000, 5_000],\n",
    "    'tvec__ngram_range': [(1, 1), (1, 2)],\n",
    "    'rf__n_estimators': [150, 200, 300, 400],\n",
    "    'rf__max_depth': [3, 4, 5, 6, 7]\n",
    "}\n",
    "\n",
    "model_3 = fit_model(df['text'],\n",
    "                    df['subreddit'],\n",
    "                    pipe,\n",
    "                    pipe_params)"
   ]
  },
  {
   "cell_type": "code",
   "execution_count": 17,
   "id": "14b1571a-5011-43fa-91e2-affaa5e70d24",
   "metadata": {},
   "outputs": [
    {
     "data": {
      "image/png": "[encoded data removed]",
      "text/plain": [
       "<Figure size 432x288 with 2 Axes>"
      ]
     },
     "metadata": {
      "needs_background": "light"
     },
     "output_type": "display_data"
    }
   ],
   "source": [
    "# Get confusion matrxi for model#3\n",
    "get_confusion_matrix(model_3, \n",
    "                     df['text'],\n",
    "                     df['subreddit'])"
   ]
  },
  {
   "cell_type": "markdown",
   "id": "271d10a7-853b-4634-833e-1c190baaaa29",
   "metadata": {},
   "source": [
    "### The effect of hyperparameter n_estimators on train and test scores"
   ]
  },
  {
   "cell_type": "code",
   "execution_count": 18,
   "id": "5599687c-84bc-4e64-927c-4d33060a59cc",
   "metadata": {},
   "outputs": [],
   "source": [
    "X = df['text']\n",
    "y = df['subreddit']\n",
    "X_train, X_test, y_train, y_test = train_test_split(X, y, stratify=y, random_state=42)"
   ]
  },
  {
   "cell_type": "code",
   "execution_count": 19,
   "id": "ea4b1cc6-01dc-4218-afe0-8ccc89661328",
   "metadata": {},
   "outputs": [],
   "source": [
    "# Let's see what ranges we should put in our gridsearch(less brut-forcing!)\n",
    "n_estimator = [n for n in range(100, 550, 50)]\n",
    "cv_score = []\n",
    "score_train =[]\n",
    "score_test = []\n",
    "for n in n_estimator:\n",
    "    pipe_tvec_rf = Pipeline([\n",
    "        ('tvec', TfidfVectorizer(stop_words='english', max_features=4000, ngram_range=(1, 2))),\n",
    "        ('rf', RandomForestClassifier(n_estimators=n, max_depth=6))\n",
    "    ])\n",
    "    cv_score.append(cross_val_score(pipe_tvec_rf, X_train, y_train, cv=5).mean())\n",
    "    pipe_tvec_rf.fit(X_train, y_train)\n",
    "    score_train.append(pipe_tvec_rf.score(X_train, y_train))\n",
    "    score_test.append(pipe_tvec_rf.score(X_test, y_test))"
   ]
  },
  {
   "cell_type": "code",
   "execution_count": 20,
   "id": "bb32917c-d55f-43ae-87b9-ef65cec68999",
   "metadata": {},
   "outputs": [
    {
     "data": {
      "image/png": "[encoded data removed]",
      "text/plain": [
       "<Figure size 432x288 with 1 Axes>"
      ]
     },
     "metadata": {
      "needs_background": "light"
     },
     "output_type": "display_data"
    }
   ],
   "source": [
    "# Plot the change of scores while changing n_estimator hyperparameter, all else held equal.\n",
    "\n",
    "plt.plot(n_estimator, score_train, label='train')\n",
    "plt.plot(n_estimator, score_test, label='test')\n",
    "plt.plot(n_estimator, cv_score, label='cv')\n",
    "plt.legend()\n",
    "plt.ylabel('score')\n",
    "plt.xlabel('n_estimators');"
   ]
  },
  {
   "cell_type": "markdown",
   "id": "2e23ad39-2774-4aba-90f2-e6efed6a1495",
   "metadata": {},
   "source": [
    "According to the plot, n_estimator = 250 sounds reasonable!"
   ]
  },
  {
   "cell_type": "markdown",
   "id": "c9de800f-3b51-49e0-b788-972e97a0ffc8",
   "metadata": {},
   "source": [
    "### The effect of hyperparameter max_depth on train and test scores"
   ]
  },
  {
   "cell_type": "code",
   "execution_count": 21,
   "id": "45bb7e8b-52b6-4980-9939-af19ffd8d4e1",
   "metadata": {},
   "outputs": [],
   "source": [
    "# Let's see what ranges we should put in our gridsearch(less brut-forcing!)\n",
    "max_depth = [n for n in range(5, 10)]\n",
    "cv_score = []\n",
    "score_train =[]\n",
    "score_test = []\n",
    "for n in max_depth:\n",
    "    pipe_tvec_rf = Pipeline([\n",
    "        ('tvec', TfidfVectorizer(stop_words='english', max_features=4000, ngram_range=(1, 2))),\n",
    "        ('rf', RandomForestClassifier(n_estimators=200, max_depth=n))\n",
    "    ])\n",
    "    cv_score.append(cross_val_score(pipe_tvec_rf, X_train, y_train, cv=5).mean())\n",
    "    pipe_tvec_rf.fit(X_train, y_train)\n",
    "    score_train.append(pipe_tvec_rf.score(X_train, y_train))\n",
    "    score_test.append(pipe_tvec_rf.score(X_test, y_test))"
   ]
  },
  {
   "cell_type": "code",
   "execution_count": 22,
   "id": "b8f6a5bb-2f4f-4268-951c-7dc1e84ea0be",
   "metadata": {},
   "outputs": [
    {
     "data": {
      "image/png": "[encoded data removed]",
      "text/plain": [
       "<Figure size 432x288 with 1 Axes>"
      ]
     },
     "metadata": {
      "needs_background": "light"
     },
     "output_type": "display_data"
    }
   ],
   "source": [
    "# Plot the change of scores while changing max_depth hyperparameter, all else held equal.\n",
    "\n",
    "plt.plot(max_depth, score_train, label='train')\n",
    "plt.plot(max_depth, score_test, label='test')\n",
    "plt.plot(max_depth, cv_score, label='cv')\n",
    "plt.legend()\n",
    "plt.ylabel('score')\n",
    "plt.xlabel('max_depth');"
   ]
  },
  {
   "cell_type": "markdown",
   "id": "a7a433fa-ae86-416a-a825-d3342b61647d",
   "metadata": {},
   "source": [
    "According to the plot, by increasing max_depth the score increaeses but max_depth ~ 8 is a safe option to avoid overfitting."
   ]
  },
  {
   "cell_type": "markdown",
   "id": "f32e2815-0442-41d5-9fa6-3191318dd645",
   "metadata": {},
   "source": [
    "### Modeling Using the `TfidfVectorizer` and `LogsiticRegression`"
   ]
  },
  {
   "cell_type": "code",
   "execution_count": 23,
   "id": "c2acff69-548e-473d-beef-7a4b86f2d864",
   "metadata": {},
   "outputs": [
    {
     "name": "stderr",
     "output_type": "stream",
     "text": [
      "C:\\Users\\Emad\\AppData\\Roaming\\Python\\Python38\\site-packages\\sklearn\\linear_model\\_sag.py:329: ConvergenceWarning: The max_iter was reached which means the coef_ did not converge\n",
      "  warnings.warn(\"The max_iter was reached which means \"\n",
      "C:\\Users\\Emad\\AppData\\Roaming\\Python\\Python38\\site-packages\\sklearn\\linear_model\\_sag.py:329: ConvergenceWarning: The max_iter was reached which means the coef_ did not converge\n",
      "  warnings.warn(\"The max_iter was reached which means \"\n",
      "C:\\Users\\Emad\\AppData\\Roaming\\Python\\Python38\\site-packages\\sklearn\\linear_model\\_sag.py:329: ConvergenceWarning: The max_iter was reached which means the coef_ did not converge\n",
      "  warnings.warn(\"The max_iter was reached which means \"\n",
      "C:\\Users\\Emad\\AppData\\Roaming\\Python\\Python38\\site-packages\\sklearn\\model_selection\\_validation.py:548: FitFailedWarning: Estimator fit failed. The score on this train-test partition for these parameters will be set to nan. Details: \n",
      "Traceback (most recent call last):\n",
      "  File \"C:\\Users\\Emad\\AppData\\Roaming\\Python\\Python38\\site-packages\\sklearn\\model_selection\\_validation.py\", line 531, in _fit_and_score\n",
      "    estimator.fit(X_train, y_train, **fit_params)\n",
      "  File \"C:\\Users\\Emad\\AppData\\Roaming\\Python\\Python38\\site-packages\\sklearn\\pipeline.py\", line 335, in fit\n",
      "    self._final_estimator.fit(Xt, y, **fit_params_last_step)\n",
      "  File \"C:\\Users\\Emad\\AppData\\Roaming\\Python\\Python38\\site-packages\\sklearn\\linear_model\\_logistic.py\", line 1304, in fit\n",
      "    solver = _check_solver(self.solver, self.penalty, self.dual)\n",
      "  File \"C:\\Users\\Emad\\AppData\\Roaming\\Python\\Python38\\site-packages\\sklearn\\linear_model\\_logistic.py\", line 438, in _check_solver\n",
      "    raise ValueError(\"Logistic Regression supports only penalties in %s,\"\n",
      "ValueError: Logistic Regression supports only penalties in ['l1', 'l2', 'elasticnet', 'none'], got None.\n",
      "\n",
      "  warnings.warn(\"Estimator fit failed. The score on this train-test\"\n",
      "C:\\Users\\Emad\\AppData\\Roaming\\Python\\Python38\\site-packages\\sklearn\\linear_model\\_sag.py:329: ConvergenceWarning: The max_iter was reached which means the coef_ did not converge\n",
      "  warnings.warn(\"The max_iter was reached which means \"\n",
      "C:\\Users\\Emad\\AppData\\Roaming\\Python\\Python38\\site-packages\\sklearn\\linear_model\\_sag.py:329: ConvergenceWarning: The max_iter was reached which means the coef_ did not converge\n",
      "  warnings.warn(\"The max_iter was reached which means \"\n",
      "C:\\Users\\Emad\\AppData\\Roaming\\Python\\Python38\\site-packages\\sklearn\\linear_model\\_sag.py:329: ConvergenceWarning: The max_iter was reached which means the coef_ did not converge\n",
      "  warnings.warn(\"The max_iter was reached which means \"\n",
      "C:\\Users\\Emad\\AppData\\Roaming\\Python\\Python38\\site-packages\\sklearn\\linear_model\\_sag.py:329: ConvergenceWarning: The max_iter was reached which means the coef_ did not converge\n",
      "  warnings.warn(\"The max_iter was reached which means \"\n",
      "C:\\Users\\Emad\\AppData\\Roaming\\Python\\Python38\\site-packages\\sklearn\\linear_model\\_sag.py:329: ConvergenceWarning: The max_iter was reached which means the coef_ did not converge\n",
      "  warnings.warn(\"The max_iter was reached which means \"\n",
      "C:\\Users\\Emad\\AppData\\Roaming\\Python\\Python38\\site-packages\\sklearn\\linear_model\\_sag.py:329: ConvergenceWarning: The max_iter was reached which means the coef_ did not converge\n",
      "  warnings.warn(\"The max_iter was reached which means \"\n",
      "C:\\Users\\Emad\\AppData\\Roaming\\Python\\Python38\\site-packages\\sklearn\\linear_model\\_sag.py:329: ConvergenceWarning: The max_iter was reached which means the coef_ did not converge\n",
      "  warnings.warn(\"The max_iter was reached which means \"\n",
      "C:\\Users\\Emad\\AppData\\Roaming\\Python\\Python38\\site-packages\\sklearn\\linear_model\\_sag.py:329: ConvergenceWarning: The max_iter was reached which means the coef_ did not converge\n",
      "  warnings.warn(\"The max_iter was reached which means \"\n",
      "C:\\Users\\Emad\\AppData\\Roaming\\Python\\Python38\\site-packages\\sklearn\\linear_model\\_sag.py:329: ConvergenceWarning: The max_iter was reached which means the coef_ did not converge\n",
      "  warnings.warn(\"The max_iter was reached which means \"\n",
      "C:\\Users\\Emad\\AppData\\Roaming\\Python\\Python38\\site-packages\\sklearn\\linear_model\\_sag.py:329: ConvergenceWarning: The max_iter was reached which means the coef_ did not converge\n",
      "  warnings.warn(\"The max_iter was reached which means \"\n",
      "C:\\Users\\Emad\\AppData\\Roaming\\Python\\Python38\\site-packages\\sklearn\\linear_model\\_sag.py:329: ConvergenceWarning: The max_iter was reached which means the coef_ did not converge\n",
      "  warnings.warn(\"The max_iter was reached which means \"\n",
      "C:\\Users\\Emad\\AppData\\Roaming\\Python\\Python38\\site-packages\\sklearn\\linear_model\\_sag.py:329: ConvergenceWarning: The max_iter was reached which means the coef_ did not converge\n",
      "  warnings.warn(\"The max_iter was reached which means \"\n",
      "C:\\Users\\Emad\\AppData\\Roaming\\Python\\Python38\\site-packages\\sklearn\\linear_model\\_sag.py:329: ConvergenceWarning: The max_iter was reached which means the coef_ did not converge\n",
      "  warnings.warn(\"The max_iter was reached which means \"\n",
      "C:\\Users\\Emad\\AppData\\Roaming\\Python\\Python38\\site-packages\\sklearn\\linear_model\\_sag.py:329: ConvergenceWarning: The max_iter was reached which means the coef_ did not converge\n",
      "  warnings.warn(\"The max_iter was reached which means \"\n",
      "C:\\Users\\Emad\\AppData\\Roaming\\Python\\Python38\\site-packages\\sklearn\\linear_model\\_sag.py:329: ConvergenceWarning: The max_iter was reached which means the coef_ did not converge\n",
      "  warnings.warn(\"The max_iter was reached which means \"\n",
      "C:\\Users\\Emad\\AppData\\Roaming\\Python\\Python38\\site-packages\\sklearn\\linear_model\\_sag.py:329: ConvergenceWarning: The max_iter was reached which means the coef_ did not converge\n",
      "  warnings.warn(\"The max_iter was reached which means \"\n",
      "C:\\Users\\Emad\\AppData\\Roaming\\Python\\Python38\\site-packages\\sklearn\\linear_model\\_sag.py:329: ConvergenceWarning: The max_iter was reached which means the coef_ did not converge\n",
      "  warnings.warn(\"The max_iter was reached which means \"\n",
      "C:\\Users\\Emad\\AppData\\Roaming\\Python\\Python38\\site-packages\\sklearn\\linear_model\\_sag.py:329: ConvergenceWarning: The max_iter was reached which means the coef_ did not converge\n",
      "  warnings.warn(\"The max_iter was reached which means \"\n",
      "C:\\Users\\Emad\\AppData\\Roaming\\Python\\Python38\\site-packages\\sklearn\\linear_model\\_sag.py:329: ConvergenceWarning: The max_iter was reached which means the coef_ did not converge\n",
      "  warnings.warn(\"The max_iter was reached which means \"\n",
      "C:\\Users\\Emad\\AppData\\Roaming\\Python\\Python38\\site-packages\\sklearn\\linear_model\\_sag.py:329: ConvergenceWarning: The max_iter was reached which means the coef_ did not converge\n",
      "  warnings.warn(\"The max_iter was reached which means \"\n",
      "C:\\Users\\Emad\\AppData\\Roaming\\Python\\Python38\\site-packages\\sklearn\\linear_model\\_sag.py:329: ConvergenceWarning: The max_iter was reached which means the coef_ did not converge\n",
      "  warnings.warn(\"The max_iter was reached which means \"\n",
      "C:\\Users\\Emad\\AppData\\Roaming\\Python\\Python38\\site-packages\\sklearn\\linear_model\\_sag.py:329: ConvergenceWarning: The max_iter was reached which means the coef_ did not converge\n",
      "  warnings.warn(\"The max_iter was reached which means \"\n",
      "C:\\Users\\Emad\\AppData\\Roaming\\Python\\Python38\\site-packages\\sklearn\\linear_model\\_sag.py:329: ConvergenceWarning: The max_iter was reached which means the coef_ did not converge\n",
      "  warnings.warn(\"The max_iter was reached which means \"\n",
      "C:\\Users\\Emad\\AppData\\Roaming\\Python\\Python38\\site-packages\\sklearn\\linear_model\\_sag.py:329: ConvergenceWarning: The max_iter was reached which means the coef_ did not converge\n",
      "  warnings.warn(\"The max_iter was reached which means \"\n",
      "C:\\Users\\Emad\\AppData\\Roaming\\Python\\Python38\\site-packages\\sklearn\\linear_model\\_sag.py:329: ConvergenceWarning: The max_iter was reached which means the coef_ did not converge\n",
      "  warnings.warn(\"The max_iter was reached which means \"\n",
      "C:\\Users\\Emad\\AppData\\Roaming\\Python\\Python38\\site-packages\\sklearn\\linear_model\\_sag.py:329: ConvergenceWarning: The max_iter was reached which means the coef_ did not converge\n",
      "  warnings.warn(\"The max_iter was reached which means \"\n",
      "C:\\Users\\Emad\\AppData\\Roaming\\Python\\Python38\\site-packages\\sklearn\\linear_model\\_sag.py:329: ConvergenceWarning: The max_iter was reached which means the coef_ did not converge\n",
      "  warnings.warn(\"The max_iter was reached which means \"\n",
      "C:\\Users\\Emad\\AppData\\Roaming\\Python\\Python38\\site-packages\\sklearn\\linear_model\\_sag.py:329: ConvergenceWarning: The max_iter was reached which means the coef_ did not converge\n",
      "  warnings.warn(\"The max_iter was reached which means \"\n",
      "C:\\Users\\Emad\\AppData\\Roaming\\Python\\Python38\\site-packages\\sklearn\\linear_model\\_sag.py:329: ConvergenceWarning: The max_iter was reached which means the coef_ did not converge\n",
      "  warnings.warn(\"The max_iter was reached which means \"\n",
      "C:\\Users\\Emad\\AppData\\Roaming\\Python\\Python38\\site-packages\\sklearn\\model_selection\\_validation.py:548: FitFailedWarning: Estimator fit failed. The score on this train-test partition for these parameters will be set to nan. Details: \n",
      "Traceback (most recent call last):\n",
      "  File \"C:\\Users\\Emad\\AppData\\Roaming\\Python\\Python38\\site-packages\\sklearn\\model_selection\\_validation.py\", line 531, in _fit_and_score\n",
      "    estimator.fit(X_train, y_train, **fit_params)\n",
      "  File \"C:\\Users\\Emad\\AppData\\Roaming\\Python\\Python38\\site-packages\\sklearn\\pipeline.py\", line 335, in fit\n",
      "    self._final_estimator.fit(Xt, y, **fit_params_last_step)\n",
      "  File \"C:\\Users\\Emad\\AppData\\Roaming\\Python\\Python38\\site-packages\\sklearn\\linear_model\\_logistic.py\", line 1304, in fit\n",
      "    solver = _check_solver(self.solver, self.penalty, self.dual)\n",
      "  File \"C:\\Users\\Emad\\AppData\\Roaming\\Python\\Python38\\site-packages\\sklearn\\linear_model\\_logistic.py\", line 438, in _check_solver\n",
      "    raise ValueError(\"Logistic Regression supports only penalties in %s,\"\n",
      "ValueError: Logistic Regression supports only penalties in ['l1', 'l2', 'elasticnet', 'none'], got None.\n",
      "\n",
      "  warnings.warn(\"Estimator fit failed. The score on this train-test\"\n",
      "C:\\Users\\Emad\\AppData\\Roaming\\Python\\Python38\\site-packages\\sklearn\\linear_model\\_sag.py:329: ConvergenceWarning: The max_iter was reached which means the coef_ did not converge\n",
      "  warnings.warn(\"The max_iter was reached which means \"\n",
      "C:\\Users\\Emad\\AppData\\Roaming\\Python\\Python38\\site-packages\\sklearn\\linear_model\\_sag.py:329: ConvergenceWarning: The max_iter was reached which means the coef_ did not converge\n",
      "  warnings.warn(\"The max_iter was reached which means \"\n",
      "C:\\Users\\Emad\\AppData\\Roaming\\Python\\Python38\\site-packages\\sklearn\\linear_model\\_sag.py:329: ConvergenceWarning: The max_iter was reached which means the coef_ did not converge\n",
      "  warnings.warn(\"The max_iter was reached which means \"\n",
      "C:\\Users\\Emad\\AppData\\Roaming\\Python\\Python38\\site-packages\\sklearn\\linear_model\\_sag.py:329: ConvergenceWarning: The max_iter was reached which means the coef_ did not converge\n",
      "  warnings.warn(\"The max_iter was reached which means \"\n",
      "C:\\Users\\Emad\\AppData\\Roaming\\Python\\Python38\\site-packages\\sklearn\\linear_model\\_sag.py:329: ConvergenceWarning: The max_iter was reached which means the coef_ did not converge\n",
      "  warnings.warn(\"The max_iter was reached which means \"\n",
      "C:\\Users\\Emad\\AppData\\Roaming\\Python\\Python38\\site-packages\\sklearn\\linear_model\\_sag.py:329: ConvergenceWarning: The max_iter was reached which means the coef_ did not converge\n",
      "  warnings.warn(\"The max_iter was reached which means \"\n",
      "C:\\Users\\Emad\\AppData\\Roaming\\Python\\Python38\\site-packages\\sklearn\\linear_model\\_sag.py:329: ConvergenceWarning: The max_iter was reached which means the coef_ did not converge\n",
      "  warnings.warn(\"The max_iter was reached which means \"\n",
      "C:\\Users\\Emad\\AppData\\Roaming\\Python\\Python38\\site-packages\\sklearn\\linear_model\\_sag.py:329: ConvergenceWarning: The max_iter was reached which means the coef_ did not converge\n",
      "  warnings.warn(\"The max_iter was reached which means \"\n",
      "C:\\Users\\Emad\\AppData\\Roaming\\Python\\Python38\\site-packages\\sklearn\\linear_model\\_sag.py:329: ConvergenceWarning: The max_iter was reached which means the coef_ did not converge\n",
      "  warnings.warn(\"The max_iter was reached which means \"\n",
      "C:\\Users\\Emad\\AppData\\Roaming\\Python\\Python38\\site-packages\\sklearn\\linear_model\\_sag.py:329: ConvergenceWarning: The max_iter was reached which means the coef_ did not converge\n",
      "  warnings.warn(\"The max_iter was reached which means \"\n",
      "C:\\Users\\Emad\\AppData\\Roaming\\Python\\Python38\\site-packages\\sklearn\\linear_model\\_sag.py:329: ConvergenceWarning: The max_iter was reached which means the coef_ did not converge\n",
      "  warnings.warn(\"The max_iter was reached which means \"\n",
      "C:\\Users\\Emad\\AppData\\Roaming\\Python\\Python38\\site-packages\\sklearn\\linear_model\\_sag.py:329: ConvergenceWarning: The max_iter was reached which means the coef_ did not converge\n",
      "  warnings.warn(\"The max_iter was reached which means \"\n",
      "C:\\Users\\Emad\\AppData\\Roaming\\Python\\Python38\\site-packages\\sklearn\\linear_model\\_sag.py:329: ConvergenceWarning: The max_iter was reached which means the coef_ did not converge\n",
      "  warnings.warn(\"The max_iter was reached which means \"\n",
      "C:\\Users\\Emad\\AppData\\Roaming\\Python\\Python38\\site-packages\\sklearn\\linear_model\\_sag.py:329: ConvergenceWarning: The max_iter was reached which means the coef_ did not converge\n",
      "  warnings.warn(\"The max_iter was reached which means \"\n",
      "C:\\Users\\Emad\\AppData\\Roaming\\Python\\Python38\\site-packages\\sklearn\\linear_model\\_sag.py:329: ConvergenceWarning: The max_iter was reached which means the coef_ did not converge\n",
      "  warnings.warn(\"The max_iter was reached which means \"\n",
      "C:\\Users\\Emad\\AppData\\Roaming\\Python\\Python38\\site-packages\\sklearn\\linear_model\\_sag.py:329: ConvergenceWarning: The max_iter was reached which means the coef_ did not converge\n",
      "  warnings.warn(\"The max_iter was reached which means \"\n",
      "C:\\Users\\Emad\\AppData\\Roaming\\Python\\Python38\\site-packages\\sklearn\\linear_model\\_sag.py:329: ConvergenceWarning: The max_iter was reached which means the coef_ did not converge\n",
      "  warnings.warn(\"The max_iter was reached which means \"\n",
      "C:\\Users\\Emad\\AppData\\Roaming\\Python\\Python38\\site-packages\\sklearn\\linear_model\\_sag.py:329: ConvergenceWarning: The max_iter was reached which means the coef_ did not converge\n",
      "  warnings.warn(\"The max_iter was reached which means \"\n",
      "C:\\Users\\Emad\\AppData\\Roaming\\Python\\Python38\\site-packages\\sklearn\\linear_model\\_sag.py:329: ConvergenceWarning: The max_iter was reached which means the coef_ did not converge\n",
      "  warnings.warn(\"The max_iter was reached which means \"\n",
      "C:\\Users\\Emad\\AppData\\Roaming\\Python\\Python38\\site-packages\\sklearn\\linear_model\\_sag.py:329: ConvergenceWarning: The max_iter was reached which means the coef_ did not converge\n",
      "  warnings.warn(\"The max_iter was reached which means \"\n",
      "C:\\Users\\Emad\\AppData\\Roaming\\Python\\Python38\\site-packages\\sklearn\\linear_model\\_sag.py:329: ConvergenceWarning: The max_iter was reached which means the coef_ did not converge\n",
      "  warnings.warn(\"The max_iter was reached which means \"\n",
      "C:\\Users\\Emad\\AppData\\Roaming\\Python\\Python38\\site-packages\\sklearn\\linear_model\\_sag.py:329: ConvergenceWarning: The max_iter was reached which means the coef_ did not converge\n",
      "  warnings.warn(\"The max_iter was reached which means \"\n",
      "C:\\Users\\Emad\\AppData\\Roaming\\Python\\Python38\\site-packages\\sklearn\\linear_model\\_sag.py:329: ConvergenceWarning: The max_iter was reached which means the coef_ did not converge\n",
      "  warnings.warn(\"The max_iter was reached which means \"\n",
      "C:\\Users\\Emad\\AppData\\Roaming\\Python\\Python38\\site-packages\\sklearn\\linear_model\\_sag.py:329: ConvergenceWarning: The max_iter was reached which means the coef_ did not converge\n",
      "  warnings.warn(\"The max_iter was reached which means \"\n",
      "C:\\Users\\Emad\\AppData\\Roaming\\Python\\Python38\\site-packages\\sklearn\\linear_model\\_sag.py:329: ConvergenceWarning: The max_iter was reached which means the coef_ did not converge\n",
      "  warnings.warn(\"The max_iter was reached which means \"\n",
      "C:\\Users\\Emad\\AppData\\Roaming\\Python\\Python38\\site-packages\\sklearn\\linear_model\\_sag.py:329: ConvergenceWarning: The max_iter was reached which means the coef_ did not converge\n",
      "  warnings.warn(\"The max_iter was reached which means \"\n",
      "C:\\Users\\Emad\\AppData\\Roaming\\Python\\Python38\\site-packages\\sklearn\\linear_model\\_sag.py:329: ConvergenceWarning: The max_iter was reached which means the coef_ did not converge\n",
      "  warnings.warn(\"The max_iter was reached which means \"\n",
      "C:\\Users\\Emad\\AppData\\Roaming\\Python\\Python38\\site-packages\\sklearn\\linear_model\\_sag.py:329: ConvergenceWarning: The max_iter was reached which means the coef_ did not converge\n",
      "  warnings.warn(\"The max_iter was reached which means \"\n",
      "C:\\Users\\Emad\\AppData\\Roaming\\Python\\Python38\\site-packages\\sklearn\\linear_model\\_sag.py:329: ConvergenceWarning: The max_iter was reached which means the coef_ did not converge\n",
      "  warnings.warn(\"The max_iter was reached which means \"\n",
      "C:\\Users\\Emad\\AppData\\Roaming\\Python\\Python38\\site-packages\\sklearn\\linear_model\\_sag.py:329: ConvergenceWarning: The max_iter was reached which means the coef_ did not converge\n",
      "  warnings.warn(\"The max_iter was reached which means \"\n",
      "C:\\Users\\Emad\\AppData\\Roaming\\Python\\Python38\\site-packages\\sklearn\\linear_model\\_sag.py:329: ConvergenceWarning: The max_iter was reached which means the coef_ did not converge\n",
      "  warnings.warn(\"The max_iter was reached which means \"\n",
      "C:\\Users\\Emad\\AppData\\Roaming\\Python\\Python38\\site-packages\\sklearn\\linear_model\\_sag.py:329: ConvergenceWarning: The max_iter was reached which means the coef_ did not converge\n",
      "  warnings.warn(\"The max_iter was reached which means \"\n",
      "C:\\Users\\Emad\\AppData\\Roaming\\Python\\Python38\\site-packages\\sklearn\\linear_model\\_sag.py:329: ConvergenceWarning: The max_iter was reached which means the coef_ did not converge\n",
      "  warnings.warn(\"The max_iter was reached which means \"\n",
      "C:\\Users\\Emad\\AppData\\Roaming\\Python\\Python38\\site-packages\\sklearn\\linear_model\\_sag.py:329: ConvergenceWarning: The max_iter was reached which means the coef_ did not converge\n",
      "  warnings.warn(\"The max_iter was reached which means \"\n",
      "C:\\Users\\Emad\\AppData\\Roaming\\Python\\Python38\\site-packages\\sklearn\\linear_model\\_sag.py:329: ConvergenceWarning: The max_iter was reached which means the coef_ did not converge\n",
      "  warnings.warn(\"The max_iter was reached which means \"\n",
      "C:\\Users\\Emad\\AppData\\Roaming\\Python\\Python38\\site-packages\\sklearn\\linear_model\\_sag.py:329: ConvergenceWarning: The max_iter was reached which means the coef_ did not converge\n",
      "  warnings.warn(\"The max_iter was reached which means \"\n",
      "C:\\Users\\Emad\\AppData\\Roaming\\Python\\Python38\\site-packages\\sklearn\\linear_model\\_sag.py:329: ConvergenceWarning: The max_iter was reached which means the coef_ did not converge\n",
      "  warnings.warn(\"The max_iter was reached which means \"\n",
      "C:\\Users\\Emad\\AppData\\Roaming\\Python\\Python38\\site-packages\\sklearn\\linear_model\\_sag.py:329: ConvergenceWarning: The max_iter was reached which means the coef_ did not converge\n",
      "  warnings.warn(\"The max_iter was reached which means \"\n",
      "C:\\Users\\Emad\\AppData\\Roaming\\Python\\Python38\\site-packages\\sklearn\\linear_model\\_sag.py:329: ConvergenceWarning: The max_iter was reached which means the coef_ did not converge\n",
      "  warnings.warn(\"The max_iter was reached which means \"\n",
      "C:\\Users\\Emad\\AppData\\Roaming\\Python\\Python38\\site-packages\\sklearn\\linear_model\\_sag.py:329: ConvergenceWarning: The max_iter was reached which means the coef_ did not converge\n",
      "  warnings.warn(\"The max_iter was reached which means \"\n",
      "C:\\Users\\Emad\\AppData\\Roaming\\Python\\Python38\\site-packages\\sklearn\\linear_model\\_sag.py:329: ConvergenceWarning: The max_iter was reached which means the coef_ did not converge\n",
      "  warnings.warn(\"The max_iter was reached which means \"\n",
      "C:\\Users\\Emad\\AppData\\Roaming\\Python\\Python38\\site-packages\\sklearn\\linear_model\\_sag.py:329: ConvergenceWarning: The max_iter was reached which means the coef_ did not converge\n",
      "  warnings.warn(\"The max_iter was reached which means \"\n",
      "C:\\Users\\Emad\\AppData\\Roaming\\Python\\Python38\\site-packages\\sklearn\\linear_model\\_sag.py:329: ConvergenceWarning: The max_iter was reached which means the coef_ did not converge\n",
      "  warnings.warn(\"The max_iter was reached which means \"\n",
      "C:\\Users\\Emad\\AppData\\Roaming\\Python\\Python38\\site-packages\\sklearn\\linear_model\\_sag.py:329: ConvergenceWarning: The max_iter was reached which means the coef_ did not converge\n",
      "  warnings.warn(\"The max_iter was reached which means \"\n",
      "C:\\Users\\Emad\\AppData\\Roaming\\Python\\Python38\\site-packages\\sklearn\\linear_model\\_sag.py:329: ConvergenceWarning: The max_iter was reached which means the coef_ did not converge\n",
      "  warnings.warn(\"The max_iter was reached which means \"\n",
      "C:\\Users\\Emad\\AppData\\Roaming\\Python\\Python38\\site-packages\\sklearn\\linear_model\\_sag.py:329: ConvergenceWarning: The max_iter was reached which means the coef_ did not converge\n",
      "  warnings.warn(\"The max_iter was reached which means \"\n",
      "C:\\Users\\Emad\\AppData\\Roaming\\Python\\Python38\\site-packages\\sklearn\\linear_model\\_sag.py:329: ConvergenceWarning: The max_iter was reached which means the coef_ did not converge\n",
      "  warnings.warn(\"The max_iter was reached which means \"\n",
      "C:\\Users\\Emad\\AppData\\Roaming\\Python\\Python38\\site-packages\\sklearn\\linear_model\\_sag.py:329: ConvergenceWarning: The max_iter was reached which means the coef_ did not converge\n",
      "  warnings.warn(\"The max_iter was reached which means \"\n",
      "C:\\Users\\Emad\\AppData\\Roaming\\Python\\Python38\\site-packages\\sklearn\\linear_model\\_sag.py:329: ConvergenceWarning: The max_iter was reached which means the coef_ did not converge\n",
      "  warnings.warn(\"The max_iter was reached which means \"\n",
      "C:\\Users\\Emad\\AppData\\Roaming\\Python\\Python38\\site-packages\\sklearn\\linear_model\\_sag.py:329: ConvergenceWarning: The max_iter was reached which means the coef_ did not converge\n",
      "  warnings.warn(\"The max_iter was reached which means \"\n",
      "C:\\Users\\Emad\\AppData\\Roaming\\Python\\Python38\\site-packages\\sklearn\\linear_model\\_sag.py:329: ConvergenceWarning: The max_iter was reached which means the coef_ did not converge\n",
      "  warnings.warn(\"The max_iter was reached which means \"\n",
      "C:\\Users\\Emad\\AppData\\Roaming\\Python\\Python38\\site-packages\\sklearn\\linear_model\\_sag.py:329: ConvergenceWarning: The max_iter was reached which means the coef_ did not converge\n",
      "  warnings.warn(\"The max_iter was reached which means \"\n",
      "C:\\Users\\Emad\\AppData\\Roaming\\Python\\Python38\\site-packages\\sklearn\\linear_model\\_sag.py:329: ConvergenceWarning: The max_iter was reached which means the coef_ did not converge\n",
      "  warnings.warn(\"The max_iter was reached which means \"\n",
      "C:\\Users\\Emad\\AppData\\Roaming\\Python\\Python38\\site-packages\\sklearn\\linear_model\\_sag.py:329: ConvergenceWarning: The max_iter was reached which means the coef_ did not converge\n",
      "  warnings.warn(\"The max_iter was reached which means \"\n",
      "C:\\Users\\Emad\\AppData\\Roaming\\Python\\Python38\\site-packages\\sklearn\\linear_model\\_sag.py:329: ConvergenceWarning: The max_iter was reached which means the coef_ did not converge\n",
      "  warnings.warn(\"The max_iter was reached which means \"\n",
      "C:\\Users\\Emad\\AppData\\Roaming\\Python\\Python38\\site-packages\\sklearn\\linear_model\\_sag.py:329: ConvergenceWarning: The max_iter was reached which means the coef_ did not converge\n",
      "  warnings.warn(\"The max_iter was reached which means \"\n",
      "C:\\Users\\Emad\\AppData\\Roaming\\Python\\Python38\\site-packages\\sklearn\\linear_model\\_sag.py:329: ConvergenceWarning: The max_iter was reached which means the coef_ did not converge\n",
      "  warnings.warn(\"The max_iter was reached which means \"\n",
      "C:\\Users\\Emad\\AppData\\Roaming\\Python\\Python38\\site-packages\\sklearn\\linear_model\\_sag.py:329: ConvergenceWarning: The max_iter was reached which means the coef_ did not converge\n",
      "  warnings.warn(\"The max_iter was reached which means \"\n",
      "C:\\Users\\Emad\\AppData\\Roaming\\Python\\Python38\\site-packages\\sklearn\\linear_model\\_sag.py:329: ConvergenceWarning: The max_iter was reached which means the coef_ did not converge\n",
      "  warnings.warn(\"The max_iter was reached which means \"\n",
      "C:\\Users\\Emad\\AppData\\Roaming\\Python\\Python38\\site-packages\\sklearn\\linear_model\\_sag.py:329: ConvergenceWarning: The max_iter was reached which means the coef_ did not converge\n",
      "  warnings.warn(\"The max_iter was reached which means \"\n",
      "C:\\Users\\Emad\\AppData\\Roaming\\Python\\Python38\\site-packages\\sklearn\\model_selection\\_validation.py:548: FitFailedWarning: Estimator fit failed. The score on this train-test partition for these parameters will be set to nan. Details: \n",
      "Traceback (most recent call last):\n",
      "  File \"C:\\Users\\Emad\\AppData\\Roaming\\Python\\Python38\\site-packages\\sklearn\\model_selection\\_validation.py\", line 531, in _fit_and_score\n",
      "    estimator.fit(X_train, y_train, **fit_params)\n",
      "  File \"C:\\Users\\Emad\\AppData\\Roaming\\Python\\Python38\\site-packages\\sklearn\\pipeline.py\", line 335, in fit\n",
      "    self._final_estimator.fit(Xt, y, **fit_params_last_step)\n",
      "  File \"C:\\Users\\Emad\\AppData\\Roaming\\Python\\Python38\\site-packages\\sklearn\\linear_model\\_logistic.py\", line 1304, in fit\n",
      "    solver = _check_solver(self.solver, self.penalty, self.dual)\n",
      "  File \"C:\\Users\\Emad\\AppData\\Roaming\\Python\\Python38\\site-packages\\sklearn\\linear_model\\_logistic.py\", line 438, in _check_solver\n",
      "    raise ValueError(\"Logistic Regression supports only penalties in %s,\"\n",
      "ValueError: Logistic Regression supports only penalties in ['l1', 'l2', 'elasticnet', 'none'], got None.\n",
      "\n",
      "  warnings.warn(\"Estimator fit failed. The score on this train-test\"\n"
     ]
    },
    {
     "name": "stdout",
     "output_type": "stream",
     "text": [
      "train score: 0.9503195217480932\n",
      "test score: 0.9032457496136013\n",
      "{'logreg__C': 2, 'logreg__penalty': 'l2', 'tvec__max_features': 4000, 'tvec__ngram_range': (1, 1), 'tvec__stop_words': 'english'}\n",
      "Wall time: 9min 11s\n"
     ]
    }
   ],
   "source": [
    "%%time\n",
    "\n",
    "# Model #4\n",
    "\n",
    "pipe = Pipeline([\n",
    "    ('tvec', TfidfVectorizer(stop_words='english')),\n",
    "    ('logreg', LogisticRegression(solver='saga'))\n",
    "])\n",
    "\n",
    "pipe_params= {\n",
    "    'tvec__max_features': [3_000, 4_000, 5_000],\n",
    "    'tvec__stop_words': [None, 'english'],\n",
    "    'tvec__ngram_range': [(1, 1), (1,2)],\n",
    "    'logreg__penalty': ['l1', 'l2', None],\n",
    "    'logreg__C': [1.0, 1.5, 2]\n",
    "}\n",
    "\n",
    "model_4 = fit_model(df['text'],\n",
    "                    df['subreddit'],\n",
    "                    pipe, \n",
    "                    pipe_params)"
   ]
  },
  {
   "cell_type": "code",
   "execution_count": 24,
   "id": "c0baf3f9-f4e9-439e-81e9-9a54bc59a957",
   "metadata": {},
   "outputs": [
    {
     "data": {
      "image/png": "[encoded data removed]",
      "text/plain": [
       "<Figure size 432x288 with 2 Axes>"
      ]
     },
     "metadata": {
      "needs_background": "light"
     },
     "output_type": "display_data"
    }
   ],
   "source": [
    "# Get confusion matrxi for model#4\n",
    "get_confusion_matrix(model_4,\n",
    "                     df['text'],\n",
    "                     df['subreddit'])"
   ]
  },
  {
   "cell_type": "markdown",
   "id": "cbfb58af-4fe2-4fc9-a5cc-2a47e4d6b32e",
   "metadata": {},
   "source": [
    "### The effect of hyperparameter C on train and test scores"
   ]
  },
  {
   "cell_type": "code",
   "execution_count": 25,
   "id": "953a036b-660c-48bf-b991-57c63e2d94fd",
   "metadata": {},
   "outputs": [
    {
     "name": "stderr",
     "output_type": "stream",
     "text": [
      "C:\\Users\\Emad\\AppData\\Roaming\\Python\\Python38\\site-packages\\sklearn\\linear_model\\_logistic.py:762: ConvergenceWarning: lbfgs failed to converge (status=1):\n",
      "STOP: TOTAL NO. of ITERATIONS REACHED LIMIT.\n",
      "\n",
      "Increase the number of iterations (max_iter) or scale the data as shown in:\n",
      "    https://scikit-learn.org/stable/modules/preprocessing.html\n",
      "Please also refer to the documentation for alternative solver options:\n",
      "    https://scikit-learn.org/stable/modules/linear_model.html#logistic-regression\n",
      "  n_iter_i = _check_optimize_result(\n"
     ]
    }
   ],
   "source": [
    "# Let's see what ranges we should put in our gridsearch(less brut-forcing!)\n",
    "C_list = [i/2 for i in range(1,10)]\n",
    "cv_score = []\n",
    "score_train =[]\n",
    "score_test = []\n",
    "for c in C_list:\n",
    "    pipe_tvec_logreg = Pipeline([\n",
    "        ('tvec', TfidfVectorizer(stop_words='english', max_features=4000, ngram_range=(1, 2))),\n",
    "        ('logreg', LogisticRegression(C=c))\n",
    "    ])\n",
    "    cv_score.append(cross_val_score(pipe_tvec_logreg, X_train, y_train, cv=5).mean())\n",
    "    pipe_tvec_logreg.fit(X_train, y_train)\n",
    "    score_train.append(pipe_tvec_logreg.score(X_train, y_train))\n",
    "    score_test.append(pipe_tvec_logreg.score(X_test, y_test))"
   ]
  },
  {
   "cell_type": "code",
   "execution_count": 26,
   "id": "c27865a8-abd8-425c-a61e-f6b7d1d45d36",
   "metadata": {},
   "outputs": [
    {
     "data": {
      "image/png": "[encoded data removed]",
      "text/plain": [
       "<Figure size 432x288 with 1 Axes>"
      ]
     },
     "metadata": {
      "needs_background": "light"
     },
     "output_type": "display_data"
    }
   ],
   "source": [
    "#Visualize how different values of C affect accuracy\n",
    "plt.plot(C_list, score_train, label='train')\n",
    "plt.plot(C_list, score_test, label='test')\n",
    "plt.plot(C_list, cv_score, label='cv')\n",
    "plt.legend()\n",
    "plt.ylabel('score')\n",
    "plt.xlabel('C');"
   ]
  },
  {
   "cell_type": "markdown",
   "id": "135b7a9c-1549-4db7-a2c7-69f3e4cf6c96",
   "metadata": {},
   "source": [
    "C ~ 1 is where the two lines are closer, the test score is higher."
   ]
  },
  {
   "cell_type": "markdown",
   "id": "5eacaa93-dca7-4f67-9b94-af30db5776a3",
   "metadata": {},
   "source": [
    "### The effect of hyperparameter max_features on train and test scores"
   ]
  },
  {
   "cell_type": "code",
   "execution_count": 27,
   "id": "77350dff-0c37-449b-9322-1b884714bfa1",
   "metadata": {},
   "outputs": [],
   "source": [
    "max_feature_list = [i for i in range(500, 6000, 200)]\n",
    "score_train =[]\n",
    "score_test = []\n",
    "for i in max_feature_list:\n",
    "    pipe_tvec_logreg = Pipeline([\n",
    "        ('tvec', TfidfVectorizer(stop_words='english', max_features=i, ngram_range=(1, 2))),\n",
    "        ('logreg', LogisticRegression(C=1.5))\n",
    "    ])\n",
    "    pipe_tvec_logreg.fit(X_train, y_train)\n",
    "    score_train.append(pipe_tvec_logreg.score(X_train, y_train))\n",
    "    score_test.append(pipe_tvec_logreg.score(X_test, y_test))"
   ]
  },
  {
   "cell_type": "code",
   "execution_count": 28,
   "id": "62213c33-e0b1-420e-ac20-1dcace8d0d77",
   "metadata": {},
   "outputs": [
    {
     "data": {
      "image/png": "[encoded data removed]",
      "text/plain": [
       "<Figure size 432x288 with 1 Axes>"
      ]
     },
     "metadata": {
      "needs_background": "light"
     },
     "output_type": "display_data"
    }
   ],
   "source": [
    "#Visualize how different values of max_fetaures affect accuracy\n",
    "plt.plot(max_feature_list, score_train, label='train')\n",
    "plt.plot(max_feature_list, score_test, label='test')\n",
    "plt.legend()\n",
    "plt.ylabel('score')\n",
    "plt.xlabel('max_features');"
   ]
  },
  {
   "cell_type": "markdown",
   "id": "26c7f992-15e1-48e5-af49-9d794387d37d",
   "metadata": {},
   "source": [
    "Set the max_features hyperparameter to 4000."
   ]
  },
  {
   "cell_type": "markdown",
   "id": "ab2efb86-c836-4c56-ad31-3c84fb68d33d",
   "metadata": {},
   "source": [
    "### Modeling Using the `TfidfVectorizer` and `LinearSVM`"
   ]
  },
  {
   "cell_type": "code",
   "execution_count": 29,
   "id": "a696d09f-7edf-4c3c-a6ca-58a03ba3bf50",
   "metadata": {},
   "outputs": [
    {
     "name": "stderr",
     "output_type": "stream",
     "text": [
      "C:\\Users\\Emad\\AppData\\Roaming\\Python\\Python38\\site-packages\\sklearn\\model_selection\\_validation.py:548: FitFailedWarning: Estimator fit failed. The score on this train-test partition for these parameters will be set to nan. Details: \n",
      "Traceback (most recent call last):\n",
      "  File \"C:\\Users\\Emad\\AppData\\Roaming\\Python\\Python38\\site-packages\\sklearn\\model_selection\\_validation.py\", line 531, in _fit_and_score\n",
      "    estimator.fit(X_train, y_train, **fit_params)\n",
      "  File \"C:\\Users\\Emad\\AppData\\Roaming\\Python\\Python38\\site-packages\\sklearn\\pipeline.py\", line 335, in fit\n",
      "    self._final_estimator.fit(Xt, y, **fit_params_last_step)\n",
      "  File \"C:\\Users\\Emad\\AppData\\Roaming\\Python\\Python38\\site-packages\\sklearn\\svm\\_classes.py\", line 233, in fit\n",
      "    self.coef_, self.intercept_, self.n_iter_ = _fit_liblinear(\n",
      "  File \"C:\\Users\\Emad\\AppData\\Roaming\\Python\\Python38\\site-packages\\sklearn\\svm\\_base.py\", line 965, in _fit_liblinear\n",
      "    solver_type = _get_liblinear_solver_type(multi_class, penalty, loss, dual)\n",
      "  File \"C:\\Users\\Emad\\AppData\\Roaming\\Python\\Python38\\site-packages\\sklearn\\svm\\_base.py\", line 821, in _get_liblinear_solver_type\n",
      "    raise ValueError('Unsupported set of arguments: %s, '\n",
      "ValueError: Unsupported set of arguments: The combination of penalty='l1' and loss='squared_hinge' are not supported when dual=True, Parameters: penalty='l1', loss='squared_hinge', dual=True\n",
      "\n",
      "  warnings.warn(\"Estimator fit failed. The score on this train-test\"\n"
     ]
    },
    {
     "name": "stdout",
     "output_type": "stream",
     "text": [
      "train score: 0.950628736343022\n",
      "test score: 0.9063369397217929\n",
      "{'svc__C': 0.2223111111111111, 'svc__penalty': 'l2', 'tvec__max_features': 4000, 'tvec__ngram_range': (1, 1)}\n",
      "Wall time: 8min 25s\n"
     ]
    }
   ],
   "source": [
    "%%time\n",
    "\n",
    "# Model #5  \n",
    "\n",
    "pipe = Pipeline([\n",
    "    ('tvec', TfidfVectorizer(stop_words='english')),\n",
    "    ('svc', LinearSVC())\n",
    "])\n",
    "    \n",
    "pipe_params = {\n",
    "    'tvec__max_features': [2_000, 3_000, 4_000, 5_000],\n",
    "    'tvec__ngram_range': [(1, 1), (1, 2)],\n",
    "    'svc__C': np.linspace(0.0001, 2, 10),\n",
    "    'svc__penalty': ['l1', 'l2']\n",
    "}\n",
    "\n",
    "model_5 = fit_model(df['text'],\n",
    "                    df['subreddit'], \n",
    "                    pipe, \n",
    "                    pipe_params)"
   ]
  },
  {
   "cell_type": "code",
   "execution_count": 30,
   "id": "30411b70-a293-4f7b-a6e9-718144aa0c5c",
   "metadata": {},
   "outputs": [
    {
     "data": {
      "image/png": "[encoded data removed]",
      "text/plain": [
       "<Figure size 432x288 with 2 Axes>"
      ]
     },
     "metadata": {
      "needs_background": "light"
     },
     "output_type": "display_data"
    }
   ],
   "source": [
    "# Get confusion matrxi for model#5\n",
    "get_confusion_matrix(model_5,\n",
    "                     df['text'],\n",
    "                     df['subreddit'])"
   ]
  },
  {
   "cell_type": "markdown",
   "id": "205a9a2a-b7b1-4aec-b3a5-76c47f9eaf05",
   "metadata": {},
   "source": [
    "### Modeling Using the `TfidfVectorizer` and `SVM`"
   ]
  },
  {
   "cell_type": "code",
   "execution_count": 32,
   "id": "a0417dc9-1b5d-4716-88e8-b0269a82ef2c",
   "metadata": {},
   "outputs": [
    {
     "name": "stdout",
     "output_type": "stream",
     "text": [
      "train score: 0.98433312719027\n",
      "test score: 0.9088098918083463\n",
      "{'svc__C': 1.0, 'tvec__max_features': 5000, 'tvec__ngram_range': (1, 1)}\n",
      "Wall time: 18min 34s\n"
     ]
    }
   ],
   "source": [
    "%%time\n",
    "\n",
    "# Model #6\n",
    "\n",
    "pipe = Pipeline([\n",
    "    ('tvec', TfidfVectorizer(stop_words='english')),\n",
    "    ('svc', SVC())\n",
    "])\n",
    "    \n",
    "pipe_params = {\n",
    "    'tvec__max_features': [2_000, 3_000, 4_000, 5_000],\n",
    "    'tvec__ngram_range': [(1, 1), (1, 2)],\n",
    "    'svc__C': np.linspace(0.0001, 1, 5)\n",
    "}\n",
    "\n",
    "model_6 = fit_model(df['text'],\n",
    "                    df['subreddit'],\n",
    "                    pipe,\n",
    "                    pipe_params)"
   ]
  },
  {
   "cell_type": "code",
   "execution_count": 33,
   "id": "0ccb0789-69ca-4a54-b358-f349b97efcdd",
   "metadata": {},
   "outputs": [
    {
     "data": {
      "image/png": "[encoded data removed]",
      "text/plain": [
       "<Figure size 432x288 with 2 Axes>"
      ]
     },
     "metadata": {
      "needs_background": "light"
     },
     "output_type": "display_data"
    }
   ],
   "source": [
    "# Get confusion matrxi for model#6\n",
    "get_confusion_matrix(model_6,\n",
    "                     df['text'],\n",
    "                     df['subreddit'])"
   ]
  },
  {
   "cell_type": "markdown",
   "id": "f3d71506-c079-4651-a657-929287e28382",
   "metadata": {},
   "source": [
    "### Modeling Using the `CounVectorizer` and `SVM`"
   ]
  },
  {
   "cell_type": "code",
   "execution_count": 34,
   "id": "3e773f98-bbdc-4601-a806-0fef6106480a",
   "metadata": {},
   "outputs": [
    {
     "name": "stdout",
     "output_type": "stream",
     "text": [
      "train score: 0.9076479076479076\n",
      "test score: 0.8825347758887172\n",
      "{'cvec__max_df': 0.9, 'cvec__max_features': 500, 'cvec__min_df': 2, 'cvec__ngram_range': (1, 1)}\n"
     ]
    }
   ],
   "source": [
    "# Model #7\n",
    "\n",
    "pipe = Pipeline([\n",
    "        ('cvec', CountVectorizer(stop_words = 'english')),\n",
    "        ('svc', SVC())\n",
    "    ])\n",
    "\n",
    "pipe_params = {\n",
    "    'cvec__max_features': [500, 1_000, 2_000, 3_000, 4_000],\n",
    "    'cvec__min_df': [2, 3],\n",
    "    'cvec__max_df': [.9, .95],\n",
    "    'cvec__ngram_range': [(1, 1), (1, 2)]\n",
    "}\n",
    "\n",
    "model_7 = fit_model(df['text'],\n",
    "                    df['subreddit'],\n",
    "                    pipe, \n",
    "                    pipe_params)"
   ]
  },
  {
   "cell_type": "code",
   "execution_count": 35,
   "id": "455d810d-a3d6-4c36-9f62-64a5390e8580",
   "metadata": {},
   "outputs": [
    {
     "data": {
      "image/png": "[encoded data removed]",
      "text/plain": [
       "<Figure size 432x288 with 2 Axes>"
      ]
     },
     "metadata": {
      "needs_background": "light"
     },
     "output_type": "display_data"
    }
   ],
   "source": [
    "# Get confusion matrxi for model#7\n",
    "get_confusion_matrix(model_7,\n",
    "                     df['text'],\n",
    "                     df['subreddit'])"
   ]
  },
  {
   "cell_type": "markdown",
   "id": "e9d2c3a0-816f-45d5-8d07-e8b1d9c1bf0c",
   "metadata": {},
   "source": [
    "## Ensemble Model"
   ]
  },
  {
   "cell_type": "code",
   "execution_count": 39,
   "id": "3fe8c702-530b-4824-ba26-87aa8adbf442",
   "metadata": {},
   "outputs": [
    {
     "name": "stdout",
     "output_type": "stream",
     "text": [
      "train score: 0.950731807874665\n",
      "test score: 0.9057187017001546\n",
      "Wall time: 50min 16s\n"
     ]
    }
   ],
   "source": [
    "%%time\n",
    "\n",
    "vc = VotingClassifier([\n",
    "    ('model_1', model_1),\n",
    "    ('model_2', model_2),\n",
    "    ('model_4', model_4),\n",
    "    ('model_5', model_5),\n",
    "    ('model_6', model_6),\n",
    "    ('model_7', model_7)\n",
    "])\n",
    "\n",
    "vc.fit(X_train, y_train)\n",
    "\n",
    "print(f'train score: {vc.score(X_train, y_train)}')\n",
    "print(f'test score: {vc.score(X_test, y_test)}')"
   ]
  },
  {
   "cell_type": "code",
   "execution_count": null,
   "id": "a478e82c-8809-4aaa-87a0-9e73c7e94f2c",
   "metadata": {},
   "outputs": [],
   "source": [
    "# Get confusion matrxi for model#7\n",
    "preds = vc.predict(X_test)\n",
    "tn, fp, fn, tp = confusion_matrix(y_test, preds).ravel()\n",
    "\n",
    "#View Confusion Matrix\n",
    "plot_confusion_matrix(vc, X_test, y_test, cmap='bone');"
   ]
  }
 ],
 "metadata": {
  "kernelspec": {
   "display_name": "Python 3 (ipykernel)",
   "language": "python",
   "name": "python3"
  },
  "language_info": {
   "codemirror_mode": {
    "name": "ipython",
    "version": 3
   },
   "file_extension": ".py",
   "mimetype": "text/x-python",
   "name": "python",
   "nbconvert_exporter": "python",
   "pygments_lexer": "ipython3",
   "version": "3.9.13"
  }
 },
 "nbformat": 4,
 "nbformat_minor": 5
}
